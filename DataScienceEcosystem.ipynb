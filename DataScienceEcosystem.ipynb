{
 "cells": [
  {
   "cell_type": "markdown",
   "id": "27420a3c-4d3b-4b84-acc7-7fa142033e65",
   "metadata": {},
   "source": [
    "# Data Science Tools and Ecosystem"
   ]
  },
  {
   "cell_type": "markdown",
   "id": "c86ea346-2c31-4f14-b6a9-f03711bf4a48",
   "metadata": {},
   "source": [
    "In this notebook, Data Science Tools and Ecosystem are summarized."
   ]
  },
  {
   "cell_type": "markdown",
   "id": "f2b93567-06eb-47a7-b552-8654860ba34c",
   "metadata": {},
   "source": [
    "Some of the popular languages that Data Scientists use are:\n",
    "1. Python\n",
    "2. R\n",
    "3. SQL\n",
    "4. Julia\n",
    "5. Java"
   ]
  },
  {
   "cell_type": "markdown",
   "id": "1a9f6b44-57b4-4524-8d32-4623811205c4",
   "metadata": {},
   "source": [
    "Some of the commonly used libraries used by Data Scientists include:\n",
    "1. NumPy\n",
    "2. Pandas\n",
    "3. Matplotlib\n",
    "4. Scikit-learn\n",
    "5. TensorFlow"
   ]
  },
  {
   "cell_type": "markdown",
   "id": "fe778f65-fb3d-4e24-a6a9-9ed3bed67caa",
   "metadata": {},
   "source": [
    "| Data Science Tools       |\n",
    "|--------------------------|\n",
    "| Jupyter Notebook         |\n",
    "| RStudio                  |\n",
    "| Apache Zeppelin          |"
   ]
  },
  {
   "cell_type": "markdown",
   "id": "595be1dd-b4ba-452e-b0af-f23f08f819c1",
   "metadata": {},
   "source": [
    "### Below are a few examples of evaluating arithmetic expressions in Python."
   ]
  },
  {
   "cell_type": "code",
   "execution_count": 7,
   "id": "94d74609-2c83-46c0-8907-1b35a18475a1",
   "metadata": {},
   "outputs": [
    {
     "data": {
      "text/plain": [
       "17"
      ]
     },
     "execution_count": 7,
     "metadata": {},
     "output_type": "execute_result"
    }
   ],
   "source": [
    "# This is a simple arithmetic expression to multiply then add integers\n",
    "(3 * 4) + 5"
   ]
  },
  {
   "cell_type": "code",
   "execution_count": 9,
   "id": "a1d27952-bbc5-4cbe-a776-a463f4fb03be",
   "metadata": {},
   "outputs": [
    {
     "data": {
      "text/plain": [
       "3.3333333333333335"
      ]
     },
     "execution_count": 9,
     "metadata": {},
     "output_type": "execute_result"
    }
   ],
   "source": [
    "# This will convert 200 minutes to hours by dividing by 60\n",
    "200 / 60"
   ]
  },
  {
   "cell_type": "markdown",
   "id": "935ccb9c-ea4d-4f4f-962e-85f05d6391b5",
   "metadata": {},
   "source": [
    "**Objectives:**\n",
    "- List popular languages for Data Science\n",
    "- List commonly used libraries in Data Science\n",
    "- Showcase examples of arithmetic operations\n",
    "- Highlight popular data science tools"
   ]
  },
  {
   "cell_type": "markdown",
   "id": "c31d0eb9-0ec7-4bd9-b25c-38a0f504038f",
   "metadata": {},
   "source": [
    "## Author\n",
    "Ranbir Das"
   ]
  },
  {
   "cell_type": "code",
   "execution_count": null,
   "id": "6367c415-9676-4b80-bbcc-c8d92ad408e8",
   "metadata": {},
   "outputs": [],
   "source": []
  }
 ],
 "metadata": {
  "kernelspec": {
   "display_name": "Python [conda env:base] *",
   "language": "python",
   "name": "conda-base-py"
  },
  "language_info": {
   "codemirror_mode": {
    "name": "ipython",
    "version": 3
   },
   "file_extension": ".py",
   "mimetype": "text/x-python",
   "name": "python",
   "nbconvert_exporter": "python",
   "pygments_lexer": "ipython3",
   "version": "3.12.7"
  }
 },
 "nbformat": 4,
 "nbformat_minor": 5
}
